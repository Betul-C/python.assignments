{
  "nbformat": 4,
  "nbformat_minor": 0,
  "metadata": {
    "colab": {
      "name": "python assignment",
      "provenance": [],
      "authorship_tag": "ABX9TyM3J7FRBnbv9f3dx5NCT9Jz",
      "include_colab_link": true
    },
    "kernelspec": {
      "name": "python3",
      "display_name": "Python 3"
    },
    "language_info": {
      "name": "python"
    }
  },
  "cells": [
    {
      "cell_type": "markdown",
      "metadata": {
        "id": "view-in-github",
        "colab_type": "text"
      },
      "source": [
        "<a href=\"https://colab.research.google.com/github/C8277-Betul/python.assignments/blob/main/python_assignment.ipynb\" target=\"_parent\"><img src=\"https://colab.research.google.com/assets/colab-badge.svg\" alt=\"Open In Colab\"/></a>"
      ]
    },
    {
      "cell_type": "code",
      "metadata": {
        "id": "hsiVsFvqpDLr"
      },
      "source": [
        "Correct_User_name = \"betul\"\n",
        "password = \"W@1213\"\n",
        "\n",
        "\n",
        "User_name = input(\"What is your first name? : \")\n",
        "     \n",
        "if User_name == Correct_User_name :\n",
        "  print(\"Hello {} The password is : {}\".format(User_name, password))\n",
        "else:\n",
        "  print(\"Hello {}, See you later.\".format(User_name))"
      ],
      "execution_count": null,
      "outputs": []
    }
  ]
}