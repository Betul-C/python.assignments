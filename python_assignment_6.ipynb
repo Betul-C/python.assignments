{
  "nbformat": 4,
  "nbformat_minor": 0,
  "metadata": {
    "colab": {
      "name": "python assignment 6",
      "provenance": [],
      "authorship_tag": "ABX9TyMInj8T2GzAcalsGCTuDYGM",
      "include_colab_link": true
    },
    "kernelspec": {
      "name": "python3",
      "display_name": "Python 3"
    },
    "language_info": {
      "name": "python"
    }
  },
  "cells": [
    {
      "cell_type": "markdown",
      "metadata": {
        "id": "view-in-github",
        "colab_type": "text"
      },
      "source": [
        "<a href=\"https://colab.research.google.com/github/C8277-Betul/python.assignments/blob/main/python_assignment_6.ipynb\" target=\"_parent\"><img src=\"https://colab.research.google.com/assets/colab-badge.svg\" alt=\"Open In Colab\"/></a>"
      ]
    },
    {
      "cell_type": "code",
      "metadata": {
        "colab": {
          "base_uri": "https://localhost:8080/"
        },
        "id": "Qu3-iFu8YOo_",
        "outputId": "d33ad497-ec7b-427f-825a-4fa9a352cff8"
      },
      "source": [
        "first = int(input(\"Please enter your first number: \"))\n",
        "second = int(input(\"Please enter your second number: \"))\n",
        "for i in range(first,second):\n",
        "  for j in range(2,i//2):\n",
        "    if i % j == 0:\n",
        "      break\n",
        "else:\n",
        "        print(\"prime number is\",i)\n",
        "\n"
      ],
      "execution_count": 15,
      "outputs": [
        {
          "output_type": "stream",
          "text": [
            "Please enter your first number: 1\n",
            "Please enter your second number: 100\n",
            "prime number is 99\n"
          ],
          "name": "stdout"
        }
      ]
    },
    {
      "cell_type": "code",
      "metadata": {
        "id": "SKW7YRmSaEDw"
      },
      "source": [
        ""
      ],
      "execution_count": null,
      "outputs": []
    }
  ]
}