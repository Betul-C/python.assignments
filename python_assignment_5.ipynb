{
  "nbformat": 4,
  "nbformat_minor": 0,
  "metadata": {
    "colab": {
      "name": "python assignment 5",
      "provenance": [],
      "authorship_tag": "ABX9TyOEJSJXUmLlOHCzy/GQIhVV",
      "include_colab_link": true
    },
    "kernelspec": {
      "name": "python3",
      "display_name": "Python 3"
    },
    "language_info": {
      "name": "python"
    }
  },
  "cells": [
    {
      "cell_type": "markdown",
      "metadata": {
        "id": "view-in-github",
        "colab_type": "text"
      },
      "source": [
        "<a href=\"https://colab.research.google.com/github/C8277-Betul/python.assignments/blob/main/python_assignment_5.ipynb\" target=\"_parent\"><img src=\"https://colab.research.google.com/assets/colab-badge.svg\" alt=\"Open In Colab\"/></a>"
      ]
    },
    {
      "cell_type": "code",
      "metadata": {
        "id": "9NNGkRlPF2Cd"
      },
      "source": [
        "\n",
        "a=int(input(\"please enter the number: \"))\n",
        "first = 1                                    \n",
        "second = 1                                         \n",
        "if a<=0:\n",
        "    print(\"The requested series is\",first)\n",
        "else:\n",
        "    print(first,second,end=\" \")\n",
        "    for x in range(2,a):\n",
        "        next=first+second                           \n",
        "        print(next,end=\" \")\n",
        "        first = second\n",
        "        second = next"
      ],
      "execution_count": null,
      "outputs": []
    },
    {
      "cell_type": "code",
      "metadata": {
        "id": "h3RL9_NMMdfd"
      },
      "source": [
        ""
      ],
      "execution_count": null,
      "outputs": []
    }
  ]
}