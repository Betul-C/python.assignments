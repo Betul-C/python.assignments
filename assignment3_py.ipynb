{
  "nbformat": 4,
  "nbformat_minor": 0,
  "metadata": {
    "colab": {
      "name": "assignment3.py",
      "provenance": [],
      "authorship_tag": "ABX9TyMCqPkwTu61KVkyl77G0dxU",
      "include_colab_link": true
    },
    "kernelspec": {
      "name": "python3",
      "display_name": "Python 3"
    },
    "language_info": {
      "name": "python"
    }
  },
  "cells": [
    {
      "cell_type": "markdown",
      "metadata": {
        "id": "view-in-github",
        "colab_type": "text"
      },
      "source": [
        "<a href=\"https://colab.research.google.com/github/C8277-Betul/python.assignments/blob/main/assignment3_py.ipynb\" target=\"_parent\"><img src=\"https://colab.research.google.com/assets/colab-badge.svg\" alt=\"Open In Colab\"/></a>"
      ]
    },
    {
      "cell_type": "code",
      "metadata": {
        "id": "Avf_VTL6667u"
      },
      "source": [
        "number = input(\"Please enter a positive integer number:\")\n",
        "if not number.isdigit():\n",
        "\t    print(\"It is an invalid entry. Don’t use non-numeric, float, or negative values!\")\n",
        "else:\n",
        "\t list2=[]\n",
        "\t for i in number :\n",
        "\t        list2.append(int(i)**len(number))\n",
        "if sum(list2)==int(number):\n",
        "\t        print(f\"{number} is an Armstrong number\")\n",
        "else:\n",
        "\t        print(f\"{number} is not an Armstrong number\")"
      ],
      "execution_count": null,
      "outputs": []
    }
  ]
}