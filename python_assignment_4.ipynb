{
  "nbformat": 4,
  "nbformat_minor": 0,
  "metadata": {
    "colab": {
      "name": "python assignment 4",
      "provenance": [],
      "authorship_tag": "ABX9TyPzMcOYqaePSsfK8WTDsW9A",
      "include_colab_link": true
    },
    "kernelspec": {
      "name": "python3",
      "display_name": "Python 3"
    },
    "language_info": {
      "name": "python"
    }
  },
  "cells": [
    {
      "cell_type": "markdown",
      "metadata": {
        "id": "view-in-github",
        "colab_type": "text"
      },
      "source": [
        "<a href=\"https://colab.research.google.com/github/C8277-Betul/python.assignments/blob/main/python_assignment_4.ipynb\" target=\"_parent\"><img src=\"https://colab.research.google.com/assets/colab-badge.svg\" alt=\"Open In Colab\"/></a>"
      ]
    },
    {
      "cell_type": "code",
      "metadata": {
        "id": "lXWPar8zEGyp"
      },
      "source": [
        "Number = int(input(\" Please Enter any Number: \"))\n",
        "count = 0\n",
        "\n",
        "for i in range(2, (Number//2 + 1)):\n",
        "    if(Number % i == 0):\n",
        "        count = count + 1\n",
        "        break\n",
        "\n",
        "if (count == 0 and Number != 1):\n",
        "    print(\" %d is a Prime Number\" %Number)\n",
        "else:\n",
        "    print(\" %d is not a Prime Number\" %Number)"
      ],
      "execution_count": null,
      "outputs": []
    },
    {
      "cell_type": "code",
      "metadata": {
        "id": "9NNGkRlPF2Cd"
      },
      "source": [
        ""
      ],
      "execution_count": null,
      "outputs": []
    }
  ]
}