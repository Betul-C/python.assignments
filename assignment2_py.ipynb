{
  "nbformat": 4,
  "nbformat_minor": 0,
  "metadata": {
    "colab": {
      "name": "assignment2.py",
      "provenance": [],
      "authorship_tag": "ABX9TyNBO4MTtDpvGGX6hZ41rrlM",
      "include_colab_link": true
    },
    "kernelspec": {
      "name": "python3",
      "display_name": "Python 3"
    },
    "language_info": {
      "name": "python"
    }
  },
  "cells": [
    {
      "cell_type": "markdown",
      "metadata": {
        "id": "view-in-github",
        "colab_type": "text"
      },
      "source": [
        "<a href=\"https://colab.research.google.com/github/C8277-Betul/python.assignments/blob/main/assignment2_py.ipynb\" target=\"_parent\"><img src=\"https://colab.research.google.com/assets/colab-badge.svg\" alt=\"Open In Colab\"/></a>"
      ]
    },
    {
      "cell_type": "code",
      "metadata": {
        "id": "tbaFQgGTaxIC"
      },
      "source": [
        "\tage = input(\"Are you more than 75 years old?\" )\n",
        "\tchronic = input(\"Do you have a severe chronic disease?\")\n",
        "\timmune = input(\"Is your immune system too weak? \")\n",
        "\n",
        "\tif age == 'yes':\n",
        "      print(True)\n",
        "\tif age =='no':\n",
        "  print(False)\n",
        "\t\n",
        "\tif chronic == 'yes': \n",
        "\t  print(True) \n",
        "\tif chronic !='yes':\n",
        "\t         print(False)\n",
        "\t \n",
        "\tif immune =='yes': \n",
        "\t    print(True)\n",
        "\tif immune =='no' :\n",
        "\t    print(False)"
      ],
      "execution_count": null,
      "outputs": []
    }
  ]
}